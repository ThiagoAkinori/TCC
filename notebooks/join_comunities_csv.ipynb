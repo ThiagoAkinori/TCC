{
 "cells": [
  {
   "cell_type": "code",
   "execution_count": 1,
   "metadata": {},
   "outputs": [],
   "source": [
    "import pandas as pd"
   ]
  },
  {
   "cell_type": "code",
   "execution_count": 9,
   "metadata": {},
   "outputs": [],
   "source": [
    "perc_labels = [int(100*x/100) for x in range(1,21,1)]\n",
    "metric_list = ['degree','closeness','betweenness', 'clustering','random']\n",
    "\n",
    "for dataset in ['USPS','COIL','g241c','g241n','digits']:\n",
    "    for metric in metric_list:\n",
    "        df = pd.DataFrame(columns=['percentage', 'comunity', 'node'])\n",
    "        for perc in perc_labels:\n",
    "            file = metric+'_'+dataset+'_'+str(perc)+'_comunities.csv'\n",
    "            path = 'comunities2/comunities2/'+file\n",
    "            df_test = pd.read_csv(path)\n",
    "            df_test['percentage'] = perc\n",
    "            df = df.append(df_test)\n",
    "        df.to_csv('comunities2/csv/'+dataset+'_'+metric+'.csv', index=False)"
   ]
  },
  {
   "cell_type": "code",
   "execution_count": null,
   "metadata": {},
   "outputs": [],
   "source": []
  }
 ],
 "metadata": {
  "kernelspec": {
   "display_name": "Python 3",
   "language": "python",
   "name": "python3"
  },
  "language_info": {
   "codemirror_mode": {
    "name": "ipython",
    "version": 3
   },
   "file_extension": ".py",
   "mimetype": "text/x-python",
   "name": "python",
   "nbconvert_exporter": "python",
   "pygments_lexer": "ipython3",
   "version": "3.7.6"
  }
 },
 "nbformat": 4,
 "nbformat_minor": 4
}
